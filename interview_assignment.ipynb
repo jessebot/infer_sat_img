{
 "cells": [
  {
   "cell_type": "markdown",
   "id": "8d7c7004",
   "metadata": {},
   "source": [
    "## Overstory Interview Assignment - part 2\n",
    "This is a quick notebook to guide you in testing the interview assignment results. You can also find this info in the README.d\n",
    "\n",
    "We'll be using [k3s](https://k3s.io/) below through [smol-k8s-lab](https://github.com/small-hack/smol-k8s-lab), but you could use any k8s distro that is GPU enabled."
   ]
  },
  {
   "cell_type": "code",
   "execution_count": null,
   "id": "8d7671ed",
   "metadata": {},
   "outputs": [],
   "source": [
    "# first install a k8s distro. I use smol-k8s-lab to get rolling quickly\n",
    "!pip3.11 install smol-k8s-lab"
   ]
  },
  {
   "cell_type": "code",
   "execution_count": null,
   "id": "baa1627c",
   "metadata": {},
   "outputs": [],
   "source": [
    "# smol-k8s-lab requires a config file. we will set that up after we create the directory\n",
    "!mkdir -p ~/.config/smol-k8s-lab"
   ]
  },
  {
   "cell_type": "code",
   "execution_count": null,
   "id": "abc3cc77",
   "metadata": {},
   "outputs": [],
   "source": [
    "# set this to a free IP on your network (don't forget the CIDR notation!) and then you can use it in your local DNS\n",
    "# you can setup an A record for your domain in your pihole 'local DNS' if you're using that, or ping me, and I can help you with your local router!\n",
    "!echo -e \"metallb_address_pool:\\n  - 192.168.42.42/32\" > ~/.config/smol-k8s-lab/config.yaml\n",
    "\n",
    "# this is used for SSL with lets encrypt - replace with your email\n",
    "!echo \"email: name@email.com\" >> ~/.config/smol-k8s-lab/config.yaml\n",
    "\n",
    "# this is the log level, which I set to debug so you can see everything going on\n",
    "!echo -e \"log:\\n  level: debug\" >> ~/.config/smol-k8s-lab/config.yaml"
   ]
  },
  {
   "cell_type": "markdown",
   "id": "99cb1822",
   "metadata": {},
   "source": [
    "#### Install a k3s cluster using smol-k8s-lab\n",
    "I can't put this as a notebook cell, because it will prompt for sudo in the middle of the script if you don't have passwordless sudo enabled. I can catch it, but it is also a long running cell with a few sleeps to catch k8s wait issues, so you will need to run the following in a terminal:\n",
    "\n",
    "```bash\n",
    "smol-k8s-lab k3s\n",
    "```\n",
    "\n",
    "After that, please wait for k3s to finish setting everything up, generally around up to 3 minutes (on slower machines)."
   ]
  },
  {
   "cell_type": "code",
   "execution_count": null,
   "id": "29348491",
   "metadata": {},
   "outputs": [],
   "source": [
    "# apply the manifests for this assignment\n",
    "!kubectl apply -f k8s_manifests/"
   ]
  },
  {
   "cell_type": "code",
   "execution_count": null,
   "id": "1ffee35c",
   "metadata": {},
   "outputs": [],
   "source": [
    "# this is optional, as I already have the tif locally, and you probably do too :)\n",
    "!wget \"https://20tree-public.s3-eu-west-1.amazonaws.com/candidates/cloudmask/Sentinel2L2A_sen2cor_18TUR_20180812_clouds=5.3%_area=99%.tif"
   ]
  },
  {
   "cell_type": "code",
   "execution_count": null,
   "id": "9d7320c3",
   "metadata": {},
   "outputs": [],
   "source": [
    "# use the local script made from the original assignment notebook to create a crop\n",
    "!./crop_satellite_img.py -s Sentinel2L2A_sen2cor_18TUR_20180812_clouds\\=5.3%_area\\=99%.tif"
   ]
  },
  {
   "cell_type": "markdown",
   "id": "5d99c2bc",
   "metadata": {},
   "source": [
    "If you didn't have time or don't know how to set up your DNS,\n",
    "we can just use port forwarding to get you up and running :)\n",
    "You cannot run this in a python notebook because it runs in the foreground and background processes are not supported in all notebook renderers, causing a thread lock, so you'll need to open this in a seperate terminal to run the following:\n",
    "\n",
    "```bash\n",
    "kubectl port-forward deployment/infer-sat-image-flask-app 5000:8080\n",
    "```"
   ]
  },
  {
   "cell_type": "code",
   "execution_count": null,
   "id": "f7e23549",
   "metadata": {},
   "outputs": [
    {
     "name": "stdout",
     "output_type": "stream",
     "text": [
      "  % Total    % Received % Xferd  Average Speed   Time    Time     Time  Current\n",
      "                                 Dload  Upload   Total   Spent    Left  Speed\n",
      "100 6154k  100 1031k  100 5123k  4336k  21.0M --:--:-- --:--:-- --:--:-- 25.3M\n"
     ]
    }
   ],
   "source": [
    "# this tests the endpoint to make sure it can process our 512x512 image\n",
    "!curl -F \"file=@cropped_img.tif\" http://127.0.0.1:5000/infer_image/0 --output test_response.pkl"
   ]
  },
  {
   "cell_type": "code",
   "execution_count": null,
   "id": "a5611038",
   "metadata": {},
   "outputs": [],
   "source": [
    "# we need numpy to test the pickle (a numpy array) that we just downloaded\n",
    "import numpy as np"
   ]
  },
  {
   "cell_type": "code",
   "execution_count": null,
   "id": "a269e5b1",
   "metadata": {},
   "outputs": [
    {
     "data": {
      "text/plain": [
       "array([[0., 0., 0., ..., 0., 0., 0.],\n",
       "       [0., 0., 0., ..., 0., 0., 0.],\n",
       "       [0., 0., 0., ..., 0., 0., 0.],\n",
       "       ...,\n",
       "       [0., 0., 0., ..., 0., 0., 0.],\n",
       "       [0., 0., 0., ..., 0., 0., 0.],\n",
       "       [0., 0., 0., ..., 0., 0., 0.]], dtype=float32)"
      ]
     },
     "execution_count": null,
     "metadata": {},
     "output_type": "execute_result"
    }
   ],
   "source": [
    "# this is the test to ensure that the pickle works!\n",
    "np.load('test_response.pkl', allow_pickle=True)"
   ]
  },
  {
   "cell_type": "code",
   "execution_count": null,
   "id": "2c787176",
   "metadata": {},
   "outputs": [],
   "source": []
  }
 ],
 "metadata": {
  "kernelspec": {
   "display_name": "Python 3 (ipykernel)",
   "language": "python",
   "name": "python3"
  },
  "widgets": {
   "application/vnd.jupyter.widget-state+json": {
    "state": {},
    "version_major": 2,
    "version_minor": 0
   }
  }
 },
 "nbformat": 4,
 "nbformat_minor": 5
}
